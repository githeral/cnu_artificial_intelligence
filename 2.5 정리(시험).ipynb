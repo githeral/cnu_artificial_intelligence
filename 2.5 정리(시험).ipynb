{
 "cells": [
  {
   "cell_type": "markdown",
   "id": "a4ff0ea7",
   "metadata": {},
   "source": [
    "### 내용\n",
    "\n",
    "0. 데이터 전처리\n",
    "    - 특징/라벨 데이터셋 생성\n",
    "    - Train / Test 분리\n",
    "    - 정규화\n",
    "        - 평균값이 더 큰 특징에 가중치 높게 측정됨\n",
    "1. 지도학습\n",
    "> k-nn은 데이터가 적으면 성능이 확 떨어짐. 데이터가 많아야 정확해지지만 계산 많아짐. \n",
    "\n",
    "    - 분류\n",
    "        - k-최근접 이웃 분류\n",
    "            - k개 이웃 뽑음. 투표 후 분류.\n",
    "            \n",
    "        - 결정 트리\n",
    "    - 회귀(예측)\n",
    "        - k-최근접 이웃 회귀\n",
    "            - k개 이웃 뽑음. 이웃들의 특징의 평균을 낸 것이 예측 값.\n",
    "        - 선형 회귀\n",
    "            - 적절히 최적화된 가장 잘 예측할 수 있는 회귀선을 찾음.\n",
    "            - 학습때 쓰인 실제 데이터와 회귀선의 예측값의 오차의 평균이 가장 적은 선.\n",
    "그래서 안씀. \n",
    "2. 비지도학습\n",
    "    - 클러스터링(군집)\n",
    "3. 딥러닝\n",
    "    - CNN\n",
    "    - RNN"
   ]
  },
  {
   "cell_type": "code",
   "execution_count": null,
   "id": "c2bf5a9d",
   "metadata": {},
   "outputs": [],
   "source": []
  }
 ],
 "metadata": {
  "kernelspec": {
   "display_name": "Python 3 (ipykernel)",
   "language": "python",
   "name": "python3"
  },
  "language_info": {
   "codemirror_mode": {
    "name": "ipython",
    "version": 3
   },
   "file_extension": ".py",
   "mimetype": "text/x-python",
   "name": "python",
   "nbconvert_exporter": "python",
   "pygments_lexer": "ipython3",
   "version": "3.9.7"
  }
 },
 "nbformat": 4,
 "nbformat_minor": 5
}
