{
 "cells": [
  {
   "cell_type": "markdown",
   "id": "6d9e88cf",
   "metadata": {},
   "source": [
    "# K-NN이랑 K-클러스터링 기말고사에 나옴"
   ]
  },
  {
   "cell_type": "markdown",
   "id": "2dc04dd4",
   "metadata": {},
   "source": [
    "## 혼자 공부하는 머신러닝+딥러닝(01-03, 02-01, 02-02)자료 활용\n",
    "data : https://gist.github.com/rickiepark\n",
    "\n",
    "우리가 머신러닝 엔지니어로 회사에 채용 됐다고 가정하고, 회사 업무를 진행!!!"
   ]
  },
  {
   "cell_type": "markdown",
   "id": "52806547",
   "metadata": {},
   "source": [
    "### 1. 첫번째 과제 - 생선 분류\n",
    "\n",
    "1. 마켓에서 살아있는 생선을 판매 시작.\n",
    "2. 고객이 온라인으로 주문하면 가장 빠른 물류 센터에서 신선한 생선 곧바로 배송\n",
    "\n",
    ">한 가지 문제가 발생\n",
    "> - 물류센터 직원이 생선 구분을 잘 못함\n",
    "> - 따라서 생선 이름을 자동으로 알려주는 머신러닝 모델 요구\n",
    "\n",
    "- 생선은 \"도미, \"곤들매기\", \"농어\", \"강꼬치고기\", \"로치\", \"빙어\", \"송어\"\n",
    "- 생선분류 문제\n",
    "\n",
    ">생선의 특징을 알면 구분하기 쉬울 것.\n",
    "> - 길이와 무게 특징으로 분류"
   ]
  },
  {
   "cell_type": "markdown",
   "id": "d11a1002",
   "metadata": {},
   "source": [
    "#### 1. 1 도미 데이터 준비하기"
   ]
  },
  {
   "cell_type": "code",
   "execution_count": 1,
   "id": "3189b977",
   "metadata": {},
   "outputs": [],
   "source": [
    "bream_length = [25.4, 26.3, 26.5, 29.0, 29.0, 29.7, 29.7, 30.0, 30.0, 30.7, 31.0, 31.0, \n",
    "                31.5, 32.0, 32.0, 32.0, 33.0, 33.0, 33.5, 33.5, 34.0, 34.0, 34.5, 35.0, \n",
    "                35.0, 35.0, 35.0, 36.0, 36.0, 37.0, 38.5, 38.5, 39.5, 41.0, 41.0]\n",
    "bream_weight = [242.0, 290.0, 340.0, 363.0, 430.0, 450.0, 500.0, 390.0, 450.0, 500.0, 475.0, 500.0, \n",
    "                500.0, 340.0, 600.0, 600.0, 700.0, 700.0, 610.0, 650.0, 575.0, 685.0, 620.0, 680.0, \n",
    "                700.0, 725.0, 720.0, 714.0, 850.0, 1000.0, 920.0, 955.0, 925.0, 975.0, 950.0]"
   ]
  },
  {
   "cell_type": "code",
   "execution_count": 2,
   "id": "16088399",
   "metadata": {
    "scrolled": true
   },
   "outputs": [
    {
     "name": "stdout",
     "output_type": "stream",
     "text": [
      "<class 'list'>\n",
      "<class 'list'>\n",
      "35\n",
      "35\n"
     ]
    }
   ],
   "source": [
    "print(type(bream_length))\n",
    "print(type(bream_weight))\n",
    "print(len(bream_length))\n",
    "print(len(bream_weight))"
   ]
  },
  {
   "cell_type": "markdown",
   "id": "7ac4aabf",
   "metadata": {},
   "source": [
    "- 데이터 타입은 파이썬의 기본형 중 하나인 리스트이며 길이는 35"
   ]
  },
  {
   "cell_type": "code",
   "execution_count": 4,
   "id": "be908317",
   "metadata": {},
   "outputs": [],
   "source": [
    "#### 1.2 빙어데이터 준비하기"
   ]
  },
  {
   "cell_type": "code",
   "execution_count": 5,
   "id": "84fb5cfb",
   "metadata": {},
   "outputs": [],
   "source": [
    "smelt_length = [9.8, 10.5, 10.6, 11.0, 11.2, 11.3, 11.8, 11.8, 12.0, 12.2, 12.4, 13.0, 14.3, 15.0]\n",
    "smelt_weight = [6.7, 7.5, 7.0, 9.7, 9.8, 8.7, 10.0, 9.9, 9.8, 12.2, 13.4, 12.2, 19.7, 19.9]"
   ]
  },
  {
   "cell_type": "code",
   "execution_count": 6,
   "id": "57c9e6bd",
   "metadata": {},
   "outputs": [
    {
     "name": "stdout",
     "output_type": "stream",
     "text": [
      "<class 'list'>\n",
      "<class 'list'>\n",
      "14\n",
      "14\n"
     ]
    }
   ],
   "source": [
    "print(type(smelt_length))\n",
    "print(type(smelt_weight))\n",
    "print(len(smelt_length))\n",
    "print(len(smelt_weight))"
   ]
  },
  {
   "cell_type": "markdown",
   "id": "64776076",
   "metadata": {},
   "source": [
    "matplotlib 모듈 사용하여 도미, 빙어를 무게와 길이 차원공간에 이산그래프로 표시"
   ]
  },
  {
   "cell_type": "code",
   "execution_count": 9,
   "id": "154298db",
   "metadata": {
    "scrolled": true
   },
   "outputs": [
    {
     "data": {
      "image/png": "[encoded data removed]",
      "text/plain": [
       "<Figure size 432x288 with 1 Axes>"
      ]
     },
     "metadata": {
      "needs_background": "light"
     },
     "output_type": "display_data"
    }
   ],
   "source": [
    "import matplotlib.pyplot as plt\n",
    "\n",
    "plt.scatter(bream_length, bream_weight)\n",
    "plt.scatter(smelt_length, smelt_weight)\n",
    "plt.xlabel('lenght')\n",
    "plt.ylabel('weight')\n",
    "plt.show()"
   ]
  },
  {
   "cell_type": "markdown",
   "id": "1ac7807d",
   "metadata": {},
   "source": [
    "- 주황색: 빙어, 파란색: 도미"
   ]
  },
  {
   "cell_type": "markdown",
   "id": "47be3430",
   "metadata": {},
   "source": [
    "#### 1.3 데이터 전처리\n",
    "\n",
    "- 생선 분류 모델 : 지도학습(정답이 필요)\n",
    "\n",
    ">학습에 필요한 데이터\n",
    "> - x_train: 특징데이터, 1쌍으로 묶는 전처리 과정 필요\n",
    "> - y_train: 정답데이터 (도미인지, 빙어인지)"
   ]
  },
  {
   "cell_type": "markdown",
   "id": "043daf22",
   "metadata": {},
   "source": [
    "도미와 빙어 데이터 합치기"
   ]
  },
  {
   "cell_type": "code",
   "execution_count": 12,
   "id": "875ce16a",
   "metadata": {},
   "outputs": [
    {
     "name": "stdout",
     "output_type": "stream",
     "text": [
      "49\n",
      "49\n",
      "[25.4, 26.3, 26.5, 29.0, 29.0, 29.7, 29.7, 30.0, 30.0, 30.7, 31.0, 31.0, 31.5, 32.0, 32.0, 32.0, 33.0, 33.0, 33.5, 33.5, 34.0, 34.0, 34.5, 35.0, 35.0, 35.0, 35.0, 36.0, 36.0, 37.0, 38.5, 38.5, 39.5, 41.0, 41.0, 9.8, 10.5, 10.6, 11.0, 11.2, 11.3, 11.8, 11.8, 12.0, 12.2, 12.4, 13.0, 14.3, 15.0]\n",
      "[242.0, 290.0, 340.0, 363.0, 430.0, 450.0, 500.0, 390.0, 450.0, 500.0, 475.0, 500.0, 500.0, 340.0, 600.0, 600.0, 700.0, 700.0, 610.0, 650.0, 575.0, 685.0, 620.0, 680.0, 700.0, 725.0, 720.0, 714.0, 850.0, 1000.0, 920.0, 955.0, 925.0, 975.0, 950.0, 6.7, 7.5, 7.0, 9.7, 9.8, 8.7, 10.0, 9.9, 9.8, 12.2, 13.4, 12.2, 19.7, 19.9]\n"
     ]
    }
   ],
   "source": [
    "length = bream_length + smelt_length\n",
    "weight = bream_weight + smelt_weight\n",
    "\n",
    "print(len(length))\n",
    "print(len(weight))\n",
    "print(length)\n",
    "print(weight)"
   ]
  },
  {
   "cell_type": "markdown",
   "id": "1453a568",
   "metadata": {},
   "source": [
    "무게와 길이 데이터를 한 쌍으로 만들기 -> [길이, 무게]\n",
    "\n",
    "- 리스트 컴프리헨션 기법 : fish_data = [[l,w] for l,w in zip(length, weight)]\n",
    "    - for l,w in zip(length, weight)]\n",
    "        - zip : 하나씩 뽑음\n",
    "            - in : l,w, 각각에 집어넣음\n",
    "                - for : 리스트가 끝날때까지 반복"
   ]
  },
  {
   "cell_type": "code",
   "execution_count": 17,
   "id": "38fcbcdd",
   "metadata": {},
   "outputs": [
    {
     "name": "stdout",
     "output_type": "stream",
     "text": [
      "[[25.4, 242.0], [26.3, 290.0], [26.5, 340.0], [29.0, 363.0], [29.0, 430.0], [29.7, 450.0], [29.7, 500.0], [30.0, 390.0], [30.0, 450.0], [30.7, 500.0], [31.0, 475.0], [31.0, 500.0], [31.5, 500.0], [32.0, 340.0], [32.0, 600.0], [32.0, 600.0], [33.0, 700.0], [33.0, 700.0], [33.5, 610.0], [33.5, 650.0], [34.0, 575.0], [34.0, 685.0], [34.5, 620.0], [35.0, 680.0], [35.0, 700.0], [35.0, 725.0], [35.0, 720.0], [36.0, 714.0], [36.0, 850.0], [37.0, 1000.0], [38.5, 920.0], [38.5, 955.0], [39.5, 925.0], [41.0, 975.0], [41.0, 950.0], [9.8, 6.7], [10.5, 7.5], [10.6, 7.0], [11.0, 9.7], [11.2, 9.8], [11.3, 8.7], [11.8, 10.0], [11.8, 9.9], [12.0, 9.8], [12.2, 12.2], [12.4, 13.4], [13.0, 12.2], [14.3, 19.7], [15.0, 19.9]]\n"
     ]
    }
   ],
   "source": [
    "fish_data = [[l,w] for l,w in zip(length, weight)]\n",
    "\n",
    "print(fish_data)"
   ]
  },
  {
   "cell_type": "markdown",
   "id": "9ae407c6",
   "metadata": {},
   "source": [
    "정답(target)데이터 만들기\n",
    "- 빙어:0 도미:1"
   ]
  },
  {
   "cell_type": "code",
   "execution_count": 22,
   "id": "f6edb705",
   "metadata": {},
   "outputs": [
    {
     "name": "stdout",
     "output_type": "stream",
     "text": [
      "[1, 1, 1, 1, 1, 1, 1, 1, 1, 1, 1, 1, 1, 1, 1, 1, 1, 1, 1, 1, 1, 1, 1, 1, 1, 1, 1, 1, 1, 1, 1, 1, 1, 1, 1, 0, 0, 0, 0, 0, 0, 0, 0, 0, 0, 0, 0, 0, 0]\n"
     ]
    }
   ],
   "source": [
    "fish_target = [1]*35 +[0]*14 #리스트에 정수곱하면 길이가 늘어남\n",
    "print(fish_target)"
   ]
  },
  {
   "cell_type": "markdown",
   "id": "b5de23ee",
   "metadata": {},
   "source": [
    "#### 1.4 K-NN 분류 모델 "
   ]
  },
  {
   "cell_type": "markdown",
   "id": "213a0eeb",
   "metadata": {},
   "source": [
    "머신러닝 - 사이킷런 모듈 사용"
   ]
  },
  {
   "cell_type": "code",
   "execution_count": null,
   "id": "3fb5bd2c",
   "metadata": {},
   "outputs": [],
   "source": [
    "from sklearn.neighbors import KNeighborsClassifier"
   ]
  },
  {
   "cell_type": "markdown",
   "id": "660b6404",
   "metadata": {},
   "source": [
    "모델 생성\n",
    "- 모델 생성 함수 KNeighborClassifier()\n",
    "- k값의 default는 5"
   ]
  },
  {
   "cell_type": "code",
   "execution_count": 29,
   "id": "e8ba899e",
   "metadata": {},
   "outputs": [],
   "source": [
    "kn=KNeighborsClassifier()"
   ]
  },
  {
   "cell_type": "markdown",
   "id": "ef767bda",
   "metadata": {},
   "source": [
    "모델 학습\n",
    "- 학습하는 함수 : fit\n",
    "    - x_train, y_train 필요로 함"
   ]
  },
  {
   "cell_type": "code",
   "execution_count": 30,
   "id": "786daaba",
   "metadata": {},
   "outputs": [
    {
     "data": {
      "text/plain": [
       "KNeighborsClassifier()"
      ]
     },
     "execution_count": 30,
     "metadata": {},
     "output_type": "execute_result"
    }
   ],
   "source": [
    "kn.fit(fish_data, fish_target)"
   ]
  },
  {
   "cell_type": "markdown",
   "id": "ca47d426",
   "metadata": {},
   "source": [
    "모델 평가\n",
    "- 평가 함수 score()"
   ]
  },
  {
   "cell_type": "code",
   "execution_count": 31,
   "id": "73a95041",
   "metadata": {},
   "outputs": [
    {
     "data": {
      "text/plain": [
       "1.0"
      ]
     },
     "execution_count": 31,
     "metadata": {},
     "output_type": "execute_result"
    }
   ],
   "source": [
    "kn.score(fish_data, fish_target)"
   ]
  },
  {
   "cell_type": "markdown",
   "id": "b849a86a",
   "metadata": {},
   "source": [
    "- 평가점수 1.0 : 정확도 100퍼센트 ? "
   ]
  },
  {
   "cell_type": "markdown",
   "id": "56831383",
   "metadata": {},
   "source": [
    "실제 데이터 예측\n",
    "- 예측 함수 predict()\n",
    "- [30, 600] 데이터 가정\n",
    "- 대괄호 두개 : 학습한 데이터와 똑같이 맞춰줘야 함!!!!"
   ]
  },
  {
   "cell_type": "code",
   "execution_count": 36,
   "id": "103b7ba1",
   "metadata": {},
   "outputs": [
    {
     "data": {
      "image/png": "[encoded data removed]",
      "text/plain": [
       "<Figure size 432x288 with 1 Axes>"
      ]
     },
     "metadata": {
      "needs_background": "light"
     },
     "output_type": "display_data"
    }
   ],
   "source": [
    "plt.scatter(bream_length, bream_weight)\n",
    "plt.scatter(smelt_length, smelt_weight)\n",
    "plt.scatter(30,600,marker='^')\n",
    "\n",
    "plt.xlabel('lenght')\n",
    "plt.ylabel('weight')\n",
    "plt.show()"
   ]
  },
  {
   "cell_type": "markdown",
   "id": "f45460c6",
   "metadata": {},
   "source": [
    "- 그래프에 표시된 것처럼 '도미'로 분류해야 제대로 예측"
   ]
  },
  {
   "cell_type": "code",
   "execution_count": 39,
   "id": "be08914a",
   "metadata": {
    "scrolled": true
   },
   "outputs": [
    {
     "data": {
      "text/plain": [
       "array([1])"
      ]
     },
     "execution_count": 39,
     "metadata": {},
     "output_type": "execute_result"
    }
   ],
   "source": [
    "kn.predict([[30,600]]) #"
   ]
  },
  {
   "cell_type": "code",
   "execution_count": null,
   "id": "eb4fa9fb",
   "metadata": {},
   "outputs": [],
   "source": [
    "- 도미로 예측, 정답임."
   ]
  },
  {
   "cell_type": "markdown",
   "id": "d2d337c8",
   "metadata": {},
   "source": [
    "#### 1.6 k-nn단점\n",
    "- 새로운 데이터에 대해 예측할 때 가장 가까운 직선거리에 어떤 데이터가 있는지 살핀다.\n",
    "- 데이터가 많아야만 정확도가 올라가며 큰 메모리를 요구하고 직선거리 계산에 많은 시간이 요구된다."
   ]
  },
  {
   "cell_type": "code",
   "execution_count": null,
   "id": "ae30eadf",
   "metadata": {},
   "outputs": [],
   "source": []
  },
  {
   "cell_type": "code",
   "execution_count": null,
   "id": "4ba3a699",
   "metadata": {},
   "outputs": [],
   "source": []
  }
 ],
 "metadata": {
  "kernelspec": {
   "display_name": "Python 3 (ipykernel)",
   "language": "python",
   "name": "python3"
  },
  "language_info": {
   "codemirror_mode": {
    "name": "ipython",
    "version": 3
   },
   "file_extension": ".py",
   "mimetype": "text/x-python",
   "name": "python",
   "nbconvert_exporter": "python",
   "pygments_lexer": "ipython3",
   "version": "3.9.7"
  }
 },
 "nbformat": 4,
 "nbformat_minor": 5
}
