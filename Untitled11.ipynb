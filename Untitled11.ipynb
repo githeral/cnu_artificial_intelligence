{
 "cells": [
  {
   "cell_type": "markdown",
   "id": "3f302759",
   "metadata": {},
   "source": [
    "train test 폴더 생성"
   ]
  },
  {
   "cell_type": "code",
   "execution_count": 1,
   "id": "d75d7c0a",
   "metadata": {},
   "outputs": [],
   "source": [
    "import os, shutil"
   ]
  },
  {
   "cell_type": "code",
   "execution_count": 2,
   "id": "08ee13da",
   "metadata": {
    "scrolled": false
   },
   "outputs": [],
   "source": [
    "#path of train dataset\n",
    "\n",
    "dire='./fire_pra/train'\n",
    "os.mkdir(dire)\n",
    "\n",
    "mt_di = os.path.join(dire, 'mt')\n",
    "fire_di = os.path.join(dire, 'fire')\n",
    "\n",
    "os.mkdir(mt_di)\n",
    "os.mkdir(fire_di)"
   ]
  },
  {
   "cell_type": "code",
   "execution_count": 3,
   "id": "a340c44b",
   "metadata": {
    "scrolled": false
   },
   "outputs": [
    {
     "name": "stdout",
     "output_type": "stream",
     "text": [
      "./fire_pra/train\\mt\n",
      "./fire_pra/train\\fire\n"
     ]
    }
   ],
   "source": [
    "mt_di = os.path.join(dire,'mt')\n",
    "print(mt_di)\n",
    "\n",
    "fire_di = os.path.join(dire, 'fire')\n",
    "print(fire_di)"
   ]
  },
  {
   "cell_type": "code",
   "execution_count": 5,
   "id": "f0ac62a1",
   "metadata": {
    "scrolled": true
   },
   "outputs": [],
   "source": [
    "#path of test dataset\n",
    "\n",
    "dire2='./fire_pra/test'\n",
    "os.mkdir(dire2)\n",
    "\n",
    "mt_di2 = os.path.join(dire2, 'mt')\n",
    "fire_di2 = os.path.join(dire2, 'fire')\n",
    "\n",
    "os.mkdir(mt_di2)\n",
    "os.mkdir(fire_di2)\n"
   ]
  },
  {
   "cell_type": "code",
   "execution_count": 6,
   "id": "73876561",
   "metadata": {
    "scrolled": true
   },
   "outputs": [
    {
     "name": "stdout",
     "output_type": "stream",
     "text": [
      "./fire_pra/train\\mt\n",
      "./fire_pra/train\\fire\n"
     ]
    }
   ],
   "source": [
    "mt_di2 = os.path.join(dire2,'mt')\n",
    "print(mt_di)\n",
    "\n",
    "fire_di2 = os.path.join(dire2, 'fire')\n",
    "print(fire_di)"
   ]
  },
  {
   "cell_type": "markdown",
   "id": "984b18cb",
   "metadata": {},
   "source": [
    "train dataset 구축"
   ]
  },
  {
   "cell_type": "code",
   "execution_count": 8,
   "id": "f16b7cd1",
   "metadata": {
    "scrolled": false
   },
   "outputs": [
    {
     "name": "stdout",
     "output_type": "stream",
     "text": [
      "fnmaes: ['fire1.jpg', 'fire2.jpg', 'fire3.jpg', 'fire4.jpg', 'fire5.jpg']\n"
     ]
    }
   ],
   "source": [
    "##1. train dataset\n",
    "\n",
    "fnames = ['fire{}.jpg'.format(i+1) for i in range(40)]\n",
    "\n",
    "for fname in fnames:\n",
    "    src = os.path.join('./fire_pra/dec/fire', fname)\n",
    "    dst = os.path.join(fire_di, fname)\n",
    "    shutil.copyfile(src, dst)\n",
    "    \n",
    "print('fnmaes:',fnames[0:5])"
   ]
  },
  {
   "cell_type": "code",
   "execution_count": 11,
   "id": "371bb50b",
   "metadata": {
    "scrolled": true
   },
   "outputs": [
    {
     "name": "stdout",
     "output_type": "stream",
     "text": [
      "fnmaes2: ['mt1.jpg', 'mt2.jpg', 'mt3.jpg', 'mt4.jpg', 'mt5.jpg']\n"
     ]
    }
   ],
   "source": [
    "##1. train dataset\n",
    "\n",
    "fnames2 = ['mt{}.jpg'.format(i+1) for i in range(40)]\n",
    "\n",
    "for fname2 in fnames2:\n",
    "    src = os.path.join('./fire_pra/dec/mt', fname2)\n",
    "    dst = os.path.join(mt_di, fname2)\n",
    "    shutil.copyfile(src, dst)\n",
    "    \n",
    "print('fnmaes2:',fnames2[0:5])"
   ]
  },
  {
   "cell_type": "markdown",
   "id": "72c054da",
   "metadata": {},
   "source": [
    "테스트 데이터셋 구축"
   ]
  },
  {
   "cell_type": "code",
   "execution_count": 13,
   "id": "5685659a",
   "metadata": {
    "scrolled": false
   },
   "outputs": [
    {
     "name": "stdout",
     "output_type": "stream",
     "text": [
      "fnmaes: ['fire1.jpg', 'fire2.jpg', 'fire3.jpg', 'fire4.jpg', 'fire5.jpg']\n",
      "fnmaes2: ['mt1.jpg', 'mt2.jpg', 'mt3.jpg', 'mt4.jpg', 'mt5.jpg']\n"
     ]
    }
   ],
   "source": [
    "#test 파일\n",
    "\n",
    "fnames = ['fire{}.jpg'.format(i+1) for i in range(40)]\n",
    "\n",
    "for fname in fnames:\n",
    "    src = os.path.join('./fire_pra/dec/fire', fname)\n",
    "    dst = os.path.join(fire_di2, fname)\n",
    "    shutil.copyfile(src, dst)\n",
    "    \n",
    "fnames2 = ['mt{}.jpg'.format(i+1) for i in range(40)]\n",
    "\n",
    "for fname2 in fnames2:\n",
    "    src = os.path.join('./fire_pra/dec/mt', fname2)\n",
    "    dst = os.path.join(mt_di2, fname2)\n",
    "    shutil.copyfile(src, dst)\n",
    "    \n",
    "print('fnmaes:',fnames[0:5])\n",
    "print('fnmaes2:',fnames2[0:5])"
   ]
  },
  {
   "cell_type": "markdown",
   "id": "e5dd9bc4",
   "metadata": {},
   "source": [
    "mini batch 생성\n",
    "\n",
    "신경망은 트레인 데이터셋의 일부분을 나누어 학습ㅇ들 진행하는데 이렇게 분학된 데이터의 일부분을 미니배치라고 한다."
   ]
  },
  {
   "cell_type": "code",
   "execution_count": 20,
   "id": "6ff7c5f3",
   "metadata": {},
   "outputs": [],
   "source": [
    "import tensorflow as tf\n",
    "\n",
    "from keras.preprocessing.image import ImageDataGenerator"
   ]
  },
  {
   "cell_type": "code",
   "execution_count": 24,
   "id": "596b2602",
   "metadata": {},
   "outputs": [
    {
     "name": "stdout",
     "output_type": "stream",
     "text": [
      "Found 80 images belonging to 2 classes.\n"
     ]
    }
   ],
   "source": [
    "train_dataset = ImageDataGenerator(rescale=1./225)\n",
    "\n",
    "train_denerator = train_dataset.flow_from_directory(\n",
    "dire,\n",
    "target_size=(150,150),\n",
    "batch_size=20,\n",
    "class_mode='binary')"
   ]
  },
  {
   "cell_type": "code",
   "execution_count": 25,
   "id": "d40335fb",
   "metadata": {},
   "outputs": [
    {
     "name": "stdout",
     "output_type": "stream",
     "text": [
      "Found 80 images belonging to 2 classes.\n"
     ]
    }
   ],
   "source": [
    "test_dataset = ImageDataGenerator(rescale=1./225)\n",
    "\n",
    "train_denerator = test_dataset.flow_from_directory(\n",
    "dire2,\n",
    "target_size=(150,150),\n",
    "batch_size=10,\n",
    "class_mode='binary')"
   ]
  },
  {
   "cell_type": "code",
   "execution_count": 27,
   "id": "65d99659",
   "metadata": {},
   "outputs": [],
   "source": [
    "from keras import layers\n",
    "from keras import models"
   ]
  },
  {
   "cell_type": "markdown",
   "id": "35f0453d",
   "metadata": {},
   "source": [
    "모델 생성"
   ]
  },
  {
   "cell_type": "code",
   "execution_count": 26,
   "id": "07c99d5b",
   "metadata": {},
   "outputs": [],
   "source": [
    "model = models.Sequential()\n",
    "model.add(layers.Conv2D(32,(3,3,),activation='relu',input_shape=(150,150,3))) #콘볼루션\n",
    "model.add(layers.MaxPooling2D(2,2)) #풀링\n",
    "model.add(layers.Flatten()) #플래튼\n",
    "model.add(layers.Dense(1,activation='sigmoid')) #신경망 쌓기"
   ]
  },
  {
   "cell_type": "code",
   "execution_count": null,
   "id": "7f47aaaa",
   "metadata": {},
   "outputs": [],
   "source": []
  },
  {
   "cell_type": "code",
   "execution_count": null,
   "id": "257593e1",
   "metadata": {},
   "outputs": [],
   "source": []
  },
  {
   "cell_type": "code",
   "execution_count": null,
   "id": "cd85d3d5",
   "metadata": {},
   "outputs": [],
   "source": []
  },
  {
   "cell_type": "code",
   "execution_count": null,
   "id": "81e272da",
   "metadata": {},
   "outputs": [],
   "source": []
  },
  {
   "cell_type": "code",
   "execution_count": null,
   "id": "b7b196b7",
   "metadata": {},
   "outputs": [],
   "source": []
  },
  {
   "cell_type": "code",
   "execution_count": null,
   "id": "7cad1f52",
   "metadata": {},
   "outputs": [],
   "source": []
  },
  {
   "cell_type": "code",
   "execution_count": null,
   "id": "8dd54e40",
   "metadata": {},
   "outputs": [],
   "source": []
  },
  {
   "cell_type": "code",
   "execution_count": null,
   "id": "88c45bd6",
   "metadata": {},
   "outputs": [],
   "source": []
  },
  {
   "cell_type": "code",
   "execution_count": null,
   "id": "1f022789",
   "metadata": {},
   "outputs": [],
   "source": []
  },
  {
   "cell_type": "code",
   "execution_count": null,
   "id": "b39fde09",
   "metadata": {},
   "outputs": [],
   "source": []
  },
  {
   "cell_type": "code",
   "execution_count": null,
   "id": "6a1a1345",
   "metadata": {},
   "outputs": [],
   "source": []
  },
  {
   "cell_type": "code",
   "execution_count": null,
   "id": "1a28a582",
   "metadata": {},
   "outputs": [],
   "source": []
  }
 ],
 "metadata": {
  "kernelspec": {
   "display_name": "Python 3 (ipykernel)",
   "language": "python",
   "name": "python3"
  },
  "language_info": {
   "codemirror_mode": {
    "name": "ipython",
    "version": 3
   },
   "file_extension": ".py",
   "mimetype": "text/x-python",
   "name": "python",
   "nbconvert_exporter": "python",
   "pygments_lexer": "ipython3",
   "version": "3.9.12"
  }
 },
 "nbformat": 4,
 "nbformat_minor": 5
}
