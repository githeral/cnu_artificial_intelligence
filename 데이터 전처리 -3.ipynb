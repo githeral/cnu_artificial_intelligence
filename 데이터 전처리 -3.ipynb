{
 "cells": [
  {
   "cell_type": "markdown",
   "id": "ffa50e63",
   "metadata": {},
   "source": [
    "## 데이터 전처리 -3"
   ]
  },
  {
   "cell_type": "code",
   "execution_count": 1,
   "id": "043f6995",
   "metadata": {},
   "outputs": [],
   "source": [
    "import numpy as np\n",
    "import matplotlib.pyplot as plt\n",
    "from sklearn.neighbors import KNeighborsClassifier\n",
    "from sklearn.model_selection import train_test_split"
   ]
  },
  {
   "cell_type": "markdown",
   "id": "45412ab0",
   "metadata": {},
   "source": [
    "### 1. Numpy를 활용한 데이터셋 생성"
   ]
  },
  {
   "cell_type": "markdown",
   "id": "82661410",
   "metadata": {},
   "source": [
    "> 데이터전처리-2에서는 파이썬 내장함수를 통해 데이터전처리함\n",
    "> 넘파이 쓰면 더 쉽게 할 수 있음"
   ]
  },
  {
   "cell_type": "markdown",
   "id": "4c53219c",
   "metadata": {},
   "source": [
    "- fish(도미+빙어)데이터 불러옴"
   ]
  },
  {
   "cell_type": "code",
   "execution_count": 2,
   "id": "d9c636f5",
   "metadata": {},
   "outputs": [],
   "source": [
    "fish_length = [25.4, 26.3, 26.5, 29.0, 29.0, 29.7, 29.7, 30.0, 30.0, 30.7, 31.0, 31.0, \n",
    "                31.5, 32.0, 32.0, 32.0, 33.0, 33.0, 33.5, 33.5, 34.0, 34.0, 34.5, 35.0, \n",
    "                35.0, 35.0, 35.0, 36.0, 36.0, 37.0, 38.5, 38.5, 39.5, 41.0, 41.0, 9.8, \n",
    "                10.5, 10.6, 11.0, 11.2, 11.3, 11.8, 11.8, 12.0, 12.2, 12.4, 13.0, 14.3, 15.0]\n",
    "fish_weight = [242.0, 290.0, 340.0, 363.0, 430.0, 450.0, 500.0, 390.0, 450.0, 500.0, 475.0, 500.0, \n",
    "                500.0, 340.0, 600.0, 600.0, 700.0, 700.0, 610.0, 650.0, 575.0, 685.0, 620.0, 680.0, \n",
    "                700.0, 725.0, 720.0, 714.0, 850.0, 1000.0, 920.0, 955.0, 925.0, 975.0, 950.0, 6.7, \n",
    "                7.5, 7.0, 9.7, 9.8, 8.7, 10.0, 9.9, 9.8, 12.2, 13.4, 12.2, 19.7, 19.9]"
   ]
  },
  {
   "cell_type": "markdown",
   "id": "6b052335",
   "metadata": {},
   "source": [
    "- np.column_stack() : 데이터를 컬럼끼리 쉽게 합칠 수 있음\n",
    "- np.ones(5)  : 길이 5의 1.0로 채워진 배열 생성\n",
    "- np.zeros(5) : 길이 5의 0.0로 채워진 배열 생성"
   ]
  },
  {
   "cell_type": "code",
   "execution_count": 3,
   "id": "4ad237cd",
   "metadata": {},
   "outputs": [
    {
     "name": "stdout",
     "output_type": "stream",
     "text": [
      "[[ 25.4 242. ]\n",
      " [ 26.3 290. ]\n",
      " [ 26.5 340. ]\n",
      " [ 29.  363. ]\n",
      " [ 29.  430. ]]\n"
     ]
    }
   ],
   "source": [
    "fish_data = np.column_stack((fish_length, fish_weight))\n",
    "print(fish_data[:5]) #0~4번까지 프린트"
   ]
  },
  {
   "cell_type": "markdown",
   "id": "6165c3b4",
   "metadata": {},
   "source": [
    "- 타겟데이터 만들기\n",
    "    - np.concatenate() : 2개의 배열을 한줄로 합침"
   ]
  },
  {
   "cell_type": "code",
   "execution_count": 4,
   "id": "da633750",
   "metadata": {},
   "outputs": [],
   "source": [
    "fish_target = np.concatenate((np.ones(35), np.zeros(14)))"
   ]
  },
  {
   "cell_type": "code",
   "execution_count": 5,
   "id": "3d6f9b5c",
   "metadata": {},
   "outputs": [
    {
     "data": {
      "text/plain": [
       "array([1., 1., 1., 1., 1., 1., 1., 1., 1., 1., 1., 1., 1., 1., 1., 1., 1.,\n",
       "       1., 1., 1., 1., 1., 1., 1., 1., 1., 1., 1., 1., 1., 1., 1., 1., 1.,\n",
       "       1., 0., 0., 0., 0., 0., 0., 0., 0., 0., 0., 0., 0., 0., 0.])"
      ]
     },
     "execution_count": 5,
     "metadata": {},
     "output_type": "execute_result"
    }
   ],
   "source": [
    "fish_target"
   ]
  },
  {
   "cell_type": "markdown",
   "id": "fd557775",
   "metadata": {},
   "source": [
    "### 2. Scikit-learn으로 Train/Test데이터 나누기"
   ]
  },
  {
   "cell_type": "markdown",
   "id": "1599212f",
   "metadata": {},
   "source": [
    "- train_test_split() : 데이터 분할, 랜덤 시드 지정 가능\n",
    "    - 비율 default  :  7.2:2.5"
   ]
  },
  {
   "cell_type": "code",
   "execution_count": 6,
   "id": "eccd9d8b",
   "metadata": {},
   "outputs": [],
   "source": [
    "tarin_input, test_input, train_target, test_target =train_test_split(fish_data, fish_target, random_state=42)"
   ]
  },
  {
   "cell_type": "code",
   "execution_count": 7,
   "id": "c9c49dab",
   "metadata": {},
   "outputs": [
    {
     "name": "stdout",
     "output_type": "stream",
     "text": [
      "[1. 0. 0. 0. 1. 1. 1. 1. 1. 1. 1. 1. 1.]\n"
     ]
    }
   ],
   "source": [
    "print(test_target)"
   ]
  },
  {
   "cell_type": "markdown",
   "id": "31f40614",
   "metadata": {},
   "source": [
    ">- 도미 35마리, 빙어 14마리이므로 2.5:1 비율\n",
    ">- train_test_split() 으로 뽑은 생선 13마리는 도미 10마리, 빙어 3마리 : 그냥 랜덤으로 뽑으면 제대로 섞이지 않음"
   ]
  },
  {
   "cell_type": "markdown",
   "id": "9b3b0872",
   "metadata": {},
   "source": [
    "- startify=test_target으로 바꿔줌\n",
    "    - Class 비율에 맞게 데이터셋 분할"
   ]
  },
  {
   "cell_type": "code",
   "execution_count": 8,
   "id": "36c8835d",
   "metadata": {},
   "outputs": [],
   "source": [
    "    train_input, test_input, train_target, test_target =train_test_split(fish_data, fish_target, stratify=fish_target, random_state=42)"
   ]
  },
  {
   "cell_type": "code",
   "execution_count": 9,
   "id": "cf6cd8f1",
   "metadata": {},
   "outputs": [
    {
     "name": "stdout",
     "output_type": "stream",
     "text": [
      "[0. 0. 1. 0. 1. 0. 1. 1. 1. 1. 1. 1. 1.]\n"
     ]
    }
   ],
   "source": [
    "print(test_target)"
   ]
  },
  {
   "cell_type": "markdown",
   "id": "ecc6998a",
   "metadata": {},
   "source": [
    ">알맞게 섞임"
   ]
  },
  {
   "cell_type": "markdown",
   "id": "356b0560",
   "metadata": {},
   "source": [
    "### 3. 데이터 정규화 필요성"
   ]
  },
  {
   "cell_type": "code",
   "execution_count": 10,
   "id": "e5fd490e",
   "metadata": {
    "scrolled": true
   },
   "outputs": [
    {
     "data": {
      "text/plain": [
       "1.0"
      ]
     },
     "execution_count": 10,
     "metadata": {},
     "output_type": "execute_result"
    }
   ],
   "source": [
    "kn=KNeighborsClassifier()\n",
    "kn.fit(train_input, train_target)\n",
    "kn.score(test_input, test_target)"
   ]
  },
  {
   "cell_type": "markdown",
   "id": "51a370c2",
   "metadata": {},
   "source": [
    "- 임의 데이터[25.150] 예측시켜봄"
   ]
  },
  {
   "cell_type": "code",
   "execution_count": 11,
   "id": "5b099e02",
   "metadata": {
    "scrolled": true
   },
   "outputs": [
    {
     "name": "stdout",
     "output_type": "stream",
     "text": [
      "[0.]\n"
     ]
    }
   ],
   "source": [
    "print(kn.predict([[25,150]]))"
   ]
  },
  {
   "cell_type": "markdown",
   "id": "94429bbf",
   "metadata": {},
   "source": [
    ">빙어로 예측함"
   ]
  },
  {
   "cell_type": "code",
   "execution_count": 12,
   "id": "8ba8e67c",
   "metadata": {
    "scrolled": false
   },
   "outputs": [
    {
     "data": {
      "image/png": "[encoded data removed]",
      "text/plain": [
       "<Figure size 432x288 with 1 Axes>"
      ]
     },
     "metadata": {
      "needs_background": "light"
     },
     "output_type": "display_data"
    }
   ],
   "source": [
    "plt.scatter(train_input[:,0],train_input[:,1])\n",
    "plt.scatter(25,150, marker=\"^\")\n",
    "plt.xlabel('length')\n",
    "plt.ylabel('weight')\n",
    "plt.show()"
   ]
  },
  {
   "cell_type": "markdown",
   "id": "07b4d01c",
   "metadata": {},
   "source": [
    "> - 그래프상 도미쪽에 가까운데 분류를 빙어로 함.\n",
    "> - x축은 5단위인데 y축은 200단위 = > 데이터 정규화 필요!"
   ]
  },
  {
   "cell_type": "markdown",
   "id": "a125dab6",
   "metadata": {},
   "source": [
    "- 모델이 뽑은 5개의 이웃 그래프상으로 확인해보기"
   ]
  },
  {
   "cell_type": "code",
   "execution_count": 13,
   "id": "2f130b6f",
   "metadata": {},
   "outputs": [],
   "source": [
    "distances, indexes = kn.kneighbors([[25,150]])"
   ]
  },
  {
   "cell_type": "code",
   "execution_count": 14,
   "id": "282ef096",
   "metadata": {
    "scrolled": false
   },
   "outputs": [
    {
     "data": {
      "image/png": "[encoded data removed]",
      "text/plain": [
       "<Figure size 432x288 with 1 Axes>"
      ]
     },
     "metadata": {
      "needs_background": "light"
     },
     "output_type": "display_data"
    }
   ],
   "source": [
    "plt.scatter(train_input[:,0],train_input[:,1])\n",
    "plt.scatter(25,150, marker=\"^\")\n",
    "plt.scatter(train_input[indexes,0],train_input[indexes,1],marker='D')\n",
    "plt.xlabel('length')\n",
    "plt.ylabel('weight')\n",
    "plt.show()"
   ]
  },
  {
   "cell_type": "code",
   "execution_count": 15,
   "id": "6bdd019a",
   "metadata": {},
   "outputs": [
    {
     "name": "stdout",
     "output_type": "stream",
     "text": [
      "[[1. 0. 0. 0. 0.]]\n"
     ]
    }
   ],
   "source": [
    "print(train_target[indexes])"
   ]
  },
  {
   "cell_type": "code",
   "execution_count": 16,
   "id": "f99188e8",
   "metadata": {},
   "outputs": [
    {
     "name": "stdout",
     "output_type": "stream",
     "text": [
      "[[ 92.00086956 130.48375378 130.73859415 138.32150953 138.39320793]]\n"
     ]
    }
   ],
   "source": [
    "print(distances)"
   ]
  },
  {
   "cell_type": "markdown",
   "id": "e8e78237",
   "metadata": {},
   "source": [
    "> 빙어를 더 많이 뽑았음을 볼 수 있음 : y축이 더 가중치가 크기 때문"
   ]
  },
  {
   "cell_type": "markdown",
   "id": "8b67e947",
   "metadata": {},
   "source": [
    "### 4. 정규화, Normalization"
   ]
  },
  {
   "cell_type": "code",
   "execution_count": 17,
   "id": "6ab0ff1e",
   "metadata": {
    "scrolled": false
   },
   "outputs": [
    {
     "data": {
      "image/png": "[encoded data removed]",
      "text/plain": [
       "<Figure size 432x288 with 1 Axes>"
      ]
     },
     "metadata": {
      "needs_background": "light"
     },
     "output_type": "display_data"
    }
   ],
   "source": [
    "plt.scatter(train_input[:,0],train_input[:,1])\n",
    "plt.scatter(25,150, marker=\"^\")\n",
    "plt.xlim(0,1000)\n",
    "plt.xlabel('length')\n",
    "plt.ylabel('weight')\n",
    "plt.show()"
   ]
  },
  {
   "cell_type": "markdown",
   "id": "197ffcfb",
   "metadata": {},
   "source": [
    "#### 4-1 표준점수(standard score) 또는 z score를 사용한 정규화\n",
    "- 분산 : 데이터에서 평균을 뺀 값을 모두 제곱한 다음 평균 낸 것\n",
    "- 표준편차 : 분산의 제곱근, 데이터가 분산된 정도를 나타냄\n",
    "- 표준점수 : 각 데이터가 원점에서 몇 표준편차만큼 떨어져 있는지를 나타냄.\n",
    "    - 표준점수 = (특징 - mean)/std"
   ]
  },
  {
   "cell_type": "code",
   "execution_count": 18,
   "id": "1f73658d",
   "metadata": {},
   "outputs": [
    {
     "name": "stdout",
     "output_type": "stream",
     "text": [
      "[ 27.29722222 454.09722222] [  9.98244253 323.29893931]\n"
     ]
    }
   ],
   "source": [
    "mean=np.mean(train_input, axis=0)\n",
    "std=np.std(train_input, axis=0)\n",
    "print(mean,std)"
   ]
  },
  {
   "cell_type": "code",
   "execution_count": 19,
   "id": "b73cbddb",
   "metadata": {
    "scrolled": true
   },
   "outputs": [
    {
     "data": {
      "text/plain": [
       "array([[ 0.24070039,  0.14198246],\n",
       "       [-1.51237757, -1.36683783],\n",
       "       [ 0.5712808 ,  0.76060496],\n",
       "       [-1.60253587, -1.37766373],\n",
       "       [ 1.22242404,  1.45655528]])"
      ]
     },
     "execution_count": 19,
     "metadata": {},
     "output_type": "execute_result"
    }
   ],
   "source": [
    "train_scaled = (train_input - mean) / std #브로드 캐스팅\n",
    "train_scaled[:5]"
   ]
  },
  {
   "cell_type": "markdown",
   "id": "53de7657",
   "metadata": {},
   "source": [
    "> scaled된 데이터들의 편차가 줄어듦"
   ]
  },
  {
   "cell_type": "code",
   "execution_count": 20,
   "id": "6aa5d70d",
   "metadata": {},
   "outputs": [
    {
     "data": {
      "image/png": "[encoded data removed]",
      "text/plain": [
       "<Figure size 432x288 with 1 Axes>"
      ]
     },
     "metadata": {
      "needs_background": "light"
     },
     "output_type": "display_data"
    }
   ],
   "source": [
    "plt.scatter(train_scaled[:,0],train_scaled[:,1])\n",
    "plt.scatter(25,150, marker=\"^\")\n",
    "plt.xlabel('length')\n",
    "plt.ylabel('weight')\n",
    "plt.show()"
   ]
  },
  {
   "cell_type": "markdown",
   "id": "673f6a01",
   "metadata": {},
   "source": [
    ">정규화된 인풋 데이터들은 몰려 있음\n",
    ">정규화 안된 실제 데이터는 멀리 떨어져 있음"
   ]
  },
  {
   "cell_type": "markdown",
   "id": "8e50a0df",
   "metadata": {},
   "source": [
    "- 예측할 데이터도 정규화를 해주어야 함"
   ]
  },
  {
   "cell_type": "code",
   "execution_count": 21,
   "id": "a0a84c7a",
   "metadata": {},
   "outputs": [],
   "source": [
    "new = ([25,150] - mean) /std"
   ]
  },
  {
   "cell_type": "code",
   "execution_count": 22,
   "id": "575b5779",
   "metadata": {
    "scrolled": true
   },
   "outputs": [
    {
     "data": {
      "image/png": "[encoded data removed]",
      "text/plain": [
       "<Figure size 432x288 with 1 Axes>"
      ]
     },
     "metadata": {
      "needs_background": "light"
     },
     "output_type": "display_data"
    }
   ],
   "source": [
    "plt.scatter(train_scaled[:,0],train_scaled[:,1])\n",
    "plt.scatter(new[0], new[1], marker=\"^\")\n",
    "plt.xlabel('length')\n",
    "plt.ylabel('weight')\n",
    "plt.show()"
   ]
  },
  {
   "cell_type": "markdown",
   "id": "b6a2daa4",
   "metadata": {},
   "source": [
    "### 5. 정규화된 데이터로 다시 예측"
   ]
  },
  {
   "cell_type": "markdown",
   "id": "53c96476",
   "metadata": {},
   "source": [
    "- 테스트 데이터도 정규화"
   ]
  },
  {
   "cell_type": "code",
   "execution_count": 30,
   "id": "4b8d2386",
   "metadata": {},
   "outputs": [],
   "source": [
    "test_scaled = (test_input - mean)/std"
   ]
  },
  {
   "cell_type": "code",
   "execution_count": 31,
   "id": "2e3cbbe2",
   "metadata": {},
   "outputs": [
    {
     "data": {
      "text/plain": [
       "1.0"
      ]
     },
     "execution_count": 31,
     "metadata": {},
     "output_type": "execute_result"
    }
   ],
   "source": [
    "kn.fit(train_scaled, train_target)\n",
    "kn.score(test_scaled, test_target)"
   ]
  },
  {
   "cell_type": "markdown",
   "id": "1db037a3",
   "metadata": {},
   "source": [
    "- 정규화된 모델로 정규화된 임의 데이터 분류"
   ]
  },
  {
   "cell_type": "code",
   "execution_count": 32,
   "id": "97b56fa7",
   "metadata": {},
   "outputs": [
    {
     "name": "stdout",
     "output_type": "stream",
     "text": [
      "[1.]\n"
     ]
    }
   ],
   "source": [
    "print(kn.predict([new]))"
   ]
  },
  {
   "cell_type": "markdown",
   "id": "b5dafbc3",
   "metadata": {},
   "source": [
    ">정상적으로 도미로 분류"
   ]
  },
  {
   "cell_type": "markdown",
   "id": "d898c6b4",
   "metadata": {},
   "source": [
    "# 데이터 전처리 정리\n",
    "\n",
    "1. 모든 데이터에 대해 특징(x) / 정답(y)데이터로 분할\n",
    "    - 특징(길이, 무게) / 정답(0,1)\n",
    "\n",
    "2. Train/Test 데이터 분리\n",
    "    - 7:3 or 8:2\n",
    "    - 클래스별로 분리\n",
    "        - 각 분할에 클래스가 똑같이 들어있어야 함. ex) train데이터 7 안에 남자와 여자가 5:5로 들어있어야함\n",
    "\n",
    "3. 정규화-특징 데이터\n",
    "    - 표준점수 정규화(z-score)\n",
    "    - 0 ~ 1로 정규화 (min-max scale) : 비추 (min ~ max범위 외의 데이터가 들어올 수 있음)\n",
    "\n",
    "- 예측 전실제 데이터 정규화"
   ]
  }
 ],
 "metadata": {
  "kernelspec": {
   "display_name": "Python 3 (ipykernel)",
   "language": "python",
   "name": "python3"
  },
  "language_info": {
   "codemirror_mode": {
    "name": "ipython",
    "version": 3
   },
   "file_extension": ".py",
   "mimetype": "text/x-python",
   "name": "python",
   "nbconvert_exporter": "python",
   "pygments_lexer": "ipython3",
   "version": "3.9.7"
  }
 },
 "nbformat": 4,
 "nbformat_minor": 5
}
