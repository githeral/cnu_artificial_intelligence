{
 "cells": [
  {
   "cell_type": "markdown",
   "id": "fcefe92e",
   "metadata": {},
   "source": [
    "## 시험에 나옴\n",
    "- 음/양의 상관관계 시험에 나옴"
   ]
  },
  {
   "cell_type": "markdown",
   "id": "94c5a0a3",
   "metadata": {},
   "source": [
    "### 새로운 모델"
   ]
  },
  {
   "cell_type": "markdown",
   "id": "ba328308",
   "metadata": {},
   "source": [
    "- 도미와 빙어를 구분하는 머신러닝 모델을 성공적으로 개발한 후 자신감이 생겼음\n",
    "- 새로운 요구사항이 들어옴.\n",
    "\n",
    ">현재 상황 : 여름 농어철로 농어 주문이 크게 늘어나, 마켓은 업계 최초로 농어를 무게 단위로 판매하고자함\n",
    ">    - 농어를 마리당 가격으로 판매했더니 볼품없는 농어를 받는 고객이 항의.\n",
    "\n",
    ">요구 사항 : 농어의 길이를 가지고 무게를 예측하는 모델을 개발하세요."
   ]
  },
  {
   "cell_type": "markdown",
   "id": "ab42defc",
   "metadata": {},
   "source": [
    "회귀 모델 : \n",
    "\n",
    "- 지도 학습 : 정답 데이터 필수\n",
    "- but 회귀모델은 적정한 수치값을 예측 : 길이를 재면 무게를 예측\n",
    "    - 분류모델은 카테고리가 나눠져 있음\n",
    "- 회귀 : 평균값에 회귀하려고 하는 경향 활용\n",
    "    - 선형 회귀 분석 : 차원공간 안 데이터들과의 오차가 가장 적은 직선(회귀선)을 찾음. 그 선이 예측 함수가 됨."
   ]
  },
  {
   "cell_type": "markdown",
   "id": "99eeb555",
   "metadata": {},
   "source": [
    "###  K-NN 회귀"
   ]
  },
  {
   "cell_type": "markdown",
   "id": "c7da8673",
   "metadata": {},
   "source": [
    "-  K개의 이웃의 수치데이터를 바탕으로 '평균'을 내어 예측하는 방법"
   ]
  },
  {
   "cell_type": "code",
   "execution_count": 1,
   "id": "0cf868f6",
   "metadata": {},
   "outputs": [],
   "source": [
    "import numpy as np\n",
    "import matplotlib.pyplot as plt\n",
    "from sklearn.model_selection import train_test_split"
   ]
  },
  {
   "cell_type": "markdown",
   "id": "8c3a645c",
   "metadata": {},
   "source": [
    "### 1 Data Load"
   ]
  },
  {
   "cell_type": "markdown",
   "id": "5fb4cbfc",
   "metadata": {},
   "source": [
    "- 농어(perch)의 길이와 무게 데이터 불러옴."
   ]
  },
  {
   "cell_type": "code",
   "execution_count": 2,
   "id": "6bd6b7f4",
   "metadata": {},
   "outputs": [],
   "source": [
    "perch_length = np.array([8.4, 13.7, 15.0, 16.2, 17.4, 18.0, 18.7, 19.0, 19.6, 20.0, 21.0,\n",
    "       21.0, 21.0, 21.3, 22.0, 22.0, 22.0, 22.0, 22.0, 22.5, 22.5, 22.7,\n",
    "       23.0, 23.5, 24.0, 24.0, 24.6, 25.0, 25.6, 26.5, 27.3, 27.5, 27.5,\n",
    "       27.5, 28.0, 28.7, 30.0, 32.8, 34.5, 35.0, 36.5, 36.0, 37.0, 37.0,\n",
    "       39.0, 39.0, 39.0, 40.0, 40.0, 40.0, 40.0, 42.0, 43.0, 43.0, 43.5,\n",
    "       44.0])\n",
    "perch_weight = np.array([5.9, 32.0, 40.0, 51.5, 70.0, 100.0, 78.0, 80.0, 85.0, 85.0, 110.0,\n",
    "       115.0, 125.0, 130.0, 120.0, 120.0, 130.0, 135.0, 110.0, 130.0,\n",
    "       150.0, 145.0, 150.0, 170.0, 225.0, 145.0, 188.0, 180.0, 197.0,\n",
    "       218.0, 300.0, 260.0, 265.0, 250.0, 250.0, 300.0, 320.0, 514.0,\n",
    "       556.0, 840.0, 685.0, 700.0, 700.0, 690.0, 900.0, 650.0, 820.0,\n",
    "       850.0, 900.0, 1015.0, 820.0, 1100.0, 1000.0, 1100.0, 1000.0,\n",
    "       1000.0])"
   ]
  },
  {
   "cell_type": "code",
   "execution_count": 3,
   "id": "68eac297",
   "metadata": {
    "scrolled": true
   },
   "outputs": [
    {
     "name": "stdout",
     "output_type": "stream",
     "text": [
      "<class 'numpy.ndarray'>\n",
      "56\n"
     ]
    }
   ],
   "source": [
    "print(type(perch_length))\n",
    "print(len(perch_length))"
   ]
  },
  {
   "cell_type": "markdown",
   "id": "562ec7c9",
   "metadata": {},
   "source": [
    "> 농어 56마리의 데이터이며, 클래스가 넘파이 배열임을 알 수 있음."
   ]
  },
  {
   "cell_type": "markdown",
   "id": "342df2db",
   "metadata": {},
   "source": [
    "- 농어의 길이, 무게 분포를 그래프로 표현"
   ]
  },
  {
   "cell_type": "code",
   "execution_count": 4,
   "id": "b85d199d",
   "metadata": {},
   "outputs": [
    {
     "data": {
      "image/png": "[encoded data removed]",
      "text/plain": [
       "<Figure size 432x288 with 1 Axes>"
      ]
     },
     "metadata": {
      "needs_background": "light"
     },
     "output_type": "display_data"
    }
   ],
   "source": [
    "plt.scatter(perch_length, perch_weight)\n",
    "plt.xlabel('length')\n",
    "plt.ylabel('weight')\n",
    "plt.show()"
   ]
  },
  {
   "cell_type": "markdown",
   "id": "f7593918",
   "metadata": {},
   "source": [
    "> 양의 상관관계 : 상관관계 값이 1에 가까움 (-1에 가까울수록 음의 상관관계)"
   ]
  },
  {
   "cell_type": "markdown",
   "id": "1a1aeea0",
   "metadata": {},
   "source": [
    "### 2 Train/Test split"
   ]
  },
  {
   "cell_type": "markdown",
   "id": "8638194c",
   "metadata": {},
   "source": [
    "- train_test_split() : 데이터를 트레인 데이터와 테스트 데이터로 분할\n",
    "    - 디폴트 : 7.5:2.5"
   ]
  },
  {
   "cell_type": "code",
   "execution_count": 5,
   "id": "bbbc2962",
   "metadata": {},
   "outputs": [],
   "source": [
    "train_input, test_input, train_target, test_target = train_test_split(perch_length, perch_weight, random_state=42)"
   ]
  },
  {
   "cell_type": "code",
   "execution_count": 6,
   "id": "91d7ee5f",
   "metadata": {
    "scrolled": true
   },
   "outputs": [
    {
     "name": "stdout",
     "output_type": "stream",
     "text": [
      "(42,) (14,)\n"
     ]
    }
   ],
   "source": [
    "print(train_input.shape, test_input.shape)"
   ]
  },
  {
   "cell_type": "markdown",
   "id": "9e6f16d9",
   "metadata": {},
   "source": [
    "### 3. Data Preprocess(데이터 전처리)"
   ]
  },
  {
   "cell_type": "markdown",
   "id": "664e2712",
   "metadata": {},
   "source": [
    "- scikit-learn 모듈 : 머신러닝 모델 사용\n",
    "    - 모델 입력 데이터를 2차원 배열값으로 입력해야 함.\n",
    "        - 1차원 배열  [1, 2, 3, 4, 5]\n",
    "        - 2원 배열    [[1],[2], [3], [4], [5]]"
   ]
  },
  {
   "cell_type": "code",
   "execution_count": 7,
   "id": "91b6831e",
   "metadata": {
    "scrolled": true
   },
   "outputs": [
    {
     "name": "stdout",
     "output_type": "stream",
     "text": [
      "(56,)\n"
     ]
    }
   ],
   "source": [
    "print(perch_length.shape)"
   ]
  },
  {
   "cell_type": "markdown",
   "id": "335fcc90",
   "metadata": {},
   "source": [
    "> 농어 데이터는 1차원 배열임. scikit-learn모듈에 사용하려면 2차원으로 바꿔야함."
   ]
  },
  {
   "cell_type": "markdown",
   "id": "92cf65ef",
   "metadata": {},
   "source": [
    "- np.reshape() : np 배열의 shape를 변형\n",
    "    - 인수에 -1사용시 무시하고 그 다음에 있는 인수를 리셰이프."
   ]
  },
  {
   "cell_type": "code",
   "execution_count": 8,
   "id": "25c9a7dd",
   "metadata": {
    "scrolled": true
   },
   "outputs": [
    {
     "data": {
      "text/plain": [
       "array([[1, 2],\n",
       "       [3, 4]])"
      ]
     },
     "execution_count": 8,
     "metadata": {},
     "output_type": "execute_result"
    }
   ],
   "source": [
    "test_array=np.array([1,2,3,4])\n",
    "test_array=test_array.reshape(2,2)\n",
    "test_array"
   ]
  },
  {
   "cell_type": "code",
   "execution_count": 9,
   "id": "3a128519",
   "metadata": {
    "scrolled": false
   },
   "outputs": [
    {
     "name": "stdout",
     "output_type": "stream",
     "text": [
      "[19.6 22.  18.7 17.4 36. ]\n"
     ]
    }
   ],
   "source": [
    "print(train_input[:5])"
   ]
  },
  {
   "cell_type": "code",
   "execution_count": 10,
   "id": "6a5c8120",
   "metadata": {
    "scrolled": true
   },
   "outputs": [
    {
     "name": "stdout",
     "output_type": "stream",
     "text": [
      "(42, 1) (14, 1)\n"
     ]
    }
   ],
   "source": [
    "train_input=train_input.reshape(-1,1)\n",
    "test_input=test_input.reshape(-1,1)\n",
    "print(train_input.shape, test_input.shape)"
   ]
  },
  {
   "cell_type": "code",
   "execution_count": 11,
   "id": "02d2ff17",
   "metadata": {
    "scrolled": true
   },
   "outputs": [
    {
     "name": "stdout",
     "output_type": "stream",
     "text": [
      "[[19.6]\n",
      " [22. ]\n",
      " [18.7]\n",
      " [17.4]\n",
      " [36. ]]\n"
     ]
    }
   ],
   "source": [
    "print(train_input[:5])"
   ]
  },
  {
   "cell_type": "markdown",
   "id": "a4a631a9",
   "metadata": {},
   "source": [
    "> 2차원 배열로 됨."
   ]
  },
  {
   "cell_type": "markdown",
   "id": "8f517675",
   "metadata": {},
   "source": [
    "### 4. 모델 학습"
   ]
  },
  {
   "cell_type": "code",
   "execution_count": 12,
   "id": "70c750e9",
   "metadata": {},
   "outputs": [],
   "source": [
    "from sklearn.neighbors import KNeighborsRegressor"
   ]
  },
  {
   "cell_type": "markdown",
   "id": "f40ab1b8",
   "metadata": {},
   "source": [
    "- k-nn회귀 모델 생성/학습"
   ]
  },
  {
   "cell_type": "code",
   "execution_count": 13,
   "id": "99d06e8f",
   "metadata": {
    "scrolled": true
   },
   "outputs": [],
   "source": [
    "knr=KNeighborsRegressor()"
   ]
  },
  {
   "cell_type": "code",
   "execution_count": 14,
   "id": "933fcef4",
   "metadata": {
    "scrolled": false
   },
   "outputs": [
    {
     "data": {
      "text/plain": [
       "KNeighborsRegressor()"
      ]
     },
     "execution_count": 14,
     "metadata": {},
     "output_type": "execute_result"
    }
   ],
   "source": [
    "knr.fit(train_input, train_target)"
   ]
  },
  {
   "cell_type": "markdown",
   "id": "352c5fdb",
   "metadata": {},
   "source": [
    "- 모델 평가\n",
    "    - 회귀 평가 : 정답이 없어서 정학도로 평가하지 않음.\n",
    "    - 결정 계수($r^2$) 사용\n",
    "    - MAE(mean absolute erroe) 사용"
   ]
  },
  {
   "cell_type": "code",
   "execution_count": 15,
   "id": "251316f4",
   "metadata": {
    "scrolled": true
   },
   "outputs": [
    {
     "data": {
      "text/plain": [
       "0.992809406101064"
      ]
     },
     "execution_count": 15,
     "metadata": {},
     "output_type": "execute_result"
    }
   ],
   "source": [
    "knr.score(test_input, test_target)"
   ]
  },
  {
   "cell_type": "markdown",
   "id": "f32a01c5",
   "metadata": {},
   "source": [
    "### 5. 결정계수"
   ]
  },
  {
   "cell_type": "markdown",
   "id": "a0599212",
   "metadata": {},
   "source": [
    "- 상관계수 ($r$)\n",
    "    - 두 양적 변수간 회귀관계 측정\n",
    "    - 상관관계 정도를 나타냄\n",
    "    - -1~1사이의 값.\n",
    "\n",
    "\n",
    "- 결정계수 ($r^2$)\n",
    "    - 회귀선이 각각의 값들과 얼마나 가까운지를 측정\n",
    "    - 회귀선이 얼마나 실제 값을 잘 예측할 수 있는지를 말해줌\n",
    "    - 0~1 상이의 값\n",
    "    - r^2의 값이 1에 가까워질수록 정확도 증가.\n",
    "    \n",
    "> $R^2 = 1 -(타킷-예측)^2의 합/ (타킷-평균)^2의 합$"
   ]
  },
  {
   "cell_type": "code",
   "execution_count": 18,
   "id": "debc60ed",
   "metadata": {},
   "outputs": [
    {
     "data": {
      "text/plain": [
       "0.992809406101064"
      ]
     },
     "execution_count": 18,
     "metadata": {},
     "output_type": "execute_result"
    }
   ],
   "source": [
    "knr.score(test_input, test_target)"
   ]
  },
  {
   "cell_type": "markdown",
   "id": "fa19a58c",
   "metadata": {},
   "source": [
    "> 결정계수가 1에 가까움"
   ]
  },
  {
   "cell_type": "markdown",
   "id": "bb0994b4",
   "metadata": {},
   "source": [
    "### 6. MAE(Mean Absolute Error) (중요)"
   ]
  },
  {
   "cell_type": "markdown",
   "id": "17639bc0",
   "metadata": {},
   "source": [
    "- 타킷과 예측의 오차의 절대값을 평균해서 반환"
   ]
  },
  {
   "cell_type": "code",
   "execution_count": 16,
   "id": "f3e57205",
   "metadata": {},
   "outputs": [],
   "source": [
    "from sklearn.metrics import mean_absolute_error"
   ]
  },
  {
   "cell_type": "code",
   "execution_count": 17,
   "id": "b153625f",
   "metadata": {
    "scrolled": true
   },
   "outputs": [
    {
     "name": "stdout",
     "output_type": "stream",
     "text": [
      "19.157142857142862\n"
     ]
    }
   ],
   "source": [
    "test_prediction = knr.predict(test_input)\n",
    "mae = mean_absolute_error(test_target, test_prediction)\n",
    "print(mae)"
   ]
  },
  {
   "cell_type": "markdown",
   "id": "4cc6a0a7",
   "metadata": {},
   "source": [
    "> 농어 길이를 넣었을 때 예측한 무게가 19kg 정도 오차가 있음"
   ]
  },
  {
   "cell_type": "markdown",
   "id": "6d66f8ef",
   "metadata": {},
   "source": [
    "### 7. 과대적합(Over fitting) vs 과소적합(Under fitting)\n",
    "\n",
    "## 시험에 나옴"
   ]
  },
  {
   "cell_type": "markdown",
   "id": "67140439",
   "metadata": {},
   "source": [
    "- 과대적합 : Train 성능 좋은데 Test 성능이 좋지 않음.\n",
    "    - 훈련세트에서만 잘 동작\n",
    "- 과소적합 : Train보다 Test성능이 더 좋거나, 둘다 좋지 않음.\n",
    "    - 과소적합이 나타나는 이유 : 트레인, 테스트 데이터 세트 크기가 매우 작거나, 테스트 데이터가 트레인의 특징을 다 담지 못하는 경우."
   ]
  },
  {
   "cell_type": "markdown",
   "id": "a0e166dd",
   "metadata": {},
   "source": [
    "\n",
    "- Train 세트가 전체 데이터를 대표한다고 가정하기 때문에 훈련 세트를 잘 학습하는 것이 중요\n",
    "- 일반화된 모델을 만드는 것이 중요\n",
    ">- 예시) 요양병원 환자 데이터로 한국의 주요 질병을 예측하는 모델을 만들 때.\n",
    ">    - 고령의 환자에게만 잘 맞는 일반화되지 않은 모델이 생성됨\n"
   ]
  },
  {
   "cell_type": "markdown",
   "id": "d5d655a7",
   "metadata": {},
   "source": [
    "- 가장 좋은 모델은 트레인 데이터를 사용한 평과 결과가 조금 더 높게 나오는 것이 좋음.\n",
    "    - 트레인으로 학습했기 때문에 트레인 데이터에서 조금 더 높은 성능을 보이기 때문."
   ]
  },
  {
   "cell_type": "code",
   "execution_count": 20,
   "id": "bf52eae8",
   "metadata": {},
   "outputs": [
    {
     "name": "stdout",
     "output_type": "stream",
     "text": [
      "0.9698823289099254\n"
     ]
    }
   ],
   "source": [
    "print(knr.score(train_input, train_target))"
   ]
  },
  {
   "cell_type": "code",
   "execution_count": 21,
   "id": "0835979c",
   "metadata": {
    "scrolled": true
   },
   "outputs": [
    {
     "name": "stdout",
     "output_type": "stream",
     "text": [
      "0.992809406101064\n"
     ]
    }
   ],
   "source": [
    "print(knr.score(test_input, test_target))"
   ]
  },
  {
   "cell_type": "markdown",
   "id": "46a6c17c",
   "metadata": {},
   "source": [
    "> 테스트 성능이 더 좋은 과소적합"
   ]
  },
  {
   "cell_type": "markdown",
   "id": "2f3fef2b",
   "metadata": {},
   "source": [
    "#### 현재 우리 모델은 과소적합.\n",
    "- 과소적합을 해결하기 위해서는 훈련 데이터에 맞게 모델을 조금 더 복잡하게 만들어야 함\n",
    "    - k-nn은 k의 크기를 줄이면 모델이 더 복잡해짐\n",
    "        - k를 줄이면 국지적인 패턴에 민감해짐\n",
    "        - k를 늘리면 데이터 전반에 있는 일반적인 패턴을 따름"
   ]
  },
  {
   "cell_type": "code",
   "execution_count": 26,
   "id": "1cd205be",
   "metadata": {},
   "outputs": [
    {
     "name": "stdout",
     "output_type": "stream",
     "text": [
      "0.9804899950518966\n"
     ]
    }
   ],
   "source": [
    "knr.n_neighbors= 3 # k값 감소\n",
    "knr.fit(train_input, train_target)\n",
    "print(knr.score(train_input, train_target))"
   ]
  },
  {
   "cell_type": "code",
   "execution_count": 27,
   "id": "6674a99e",
   "metadata": {},
   "outputs": [
    {
     "name": "stdout",
     "output_type": "stream",
     "text": [
      "0.9746459963987609\n"
     ]
    }
   ],
   "source": [
    "print(knr.score(test_input, test_target))"
   ]
  },
  {
   "cell_type": "markdown",
   "id": "07b6f97e",
   "metadata": {},
   "source": [
    "> 트레인 성능이 약간 더 좋은 좋은 모델"
   ]
  }
 ],
 "metadata": {
  "kernelspec": {
   "display_name": "Python 3 (ipykernel)",
   "language": "python",
   "name": "python3"
  },
  "language_info": {
   "codemirror_mode": {
    "name": "ipython",
    "version": 3
   },
   "file_extension": ".py",
   "mimetype": "text/x-python",
   "name": "python",
   "nbconvert_exporter": "python",
   "pygments_lexer": "ipython3",
   "version": "3.9.7"
  }
 },
 "nbformat": 4,
 "nbformat_minor": 5
}
