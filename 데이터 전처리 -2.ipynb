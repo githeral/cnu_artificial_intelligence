{
 "cells": [
  {
   "cell_type": "markdown",
   "id": "5aafcead",
   "metadata": {},
   "source": [
    "## 학습용, 검증용 데이터로 나눠야 한다,\n",
    ">- 데이터 전처리 1에서 학습한 모델은 정확도가 100%\n",
    ">- 학습한 데이터로 검증을 했기 때문에 정확도가 높게 나오는 것.\n",
    " >   - 학습 : 특징(x_train), 정답(y_train)\n",
    " >   - 검증 : 특징(x_test), 정답(y_test)"
   ]
  },
  {
   "cell_type": "markdown",
   "id": "27dba72a",
   "metadata": {},
   "source": [
    "### 학습(train)/ 검증(test) 데이터 나누고 분석하기\n",
    "- 도미와 빙어가 이미 합쳐져 있는 fish 데이터 불러옴"
   ]
  },
  {
   "cell_type": "code",
   "execution_count": 1,
   "id": "ed1b92c9",
   "metadata": {},
   "outputs": [],
   "source": [
    "fish_length = [25.4, 26.3, 26.5, 29.0, 29.0, 29.7, 29.7, 30.0, 30.0, 30.7, 31.0, 31.0, \n",
    "                31.5, 32.0, 32.0, 32.0, 33.0, 33.0, 33.5, 33.5, 34.0, 34.0, 34.5, 35.0, \n",
    "                35.0, 35.0, 35.0, 36.0, 36.0, 37.0, 38.5, 38.5, 39.5, 41.0, 41.0, 9.8, \n",
    "                10.5, 10.6, 11.0, 11.2, 11.3, 11.8, 11.8, 12.0, 12.2, 12.4, 13.0, 14.3, 15.0]\n",
    "fish_weight = [242.0, 290.0, 340.0, 363.0, 430.0, 450.0, 500.0, 390.0, 450.0, 500.0, 475.0, 500.0, \n",
    "                500.0, 340.0, 600.0, 600.0, 700.0, 700.0, 610.0, 650.0, 575.0, 685.0, 620.0, 680.0, \n",
    "                700.0, 725.0, 720.0, 714.0, 850.0, 1000.0, 920.0, 955.0, 925.0, 975.0, 950.0, 6.7, \n",
    "                7.5, 7.0, 9.7, 9.8, 8.7, 10.0, 9.9, 9.8, 12.2, 13.4, 12.2, 19.7, 19.9]"
   ]
  },
  {
   "cell_type": "markdown",
   "id": "38dbed9c",
   "metadata": {},
   "source": [
    "- 데이터 한 쌍으로 만들기\n",
    "- 정답 데이터 만들기"
   ]
  },
  {
   "cell_type": "code",
   "execution_count": 2,
   "id": "45e35845",
   "metadata": {},
   "outputs": [],
   "source": [
    "fish_data = [[l,w] for l,w in zip(fish_length,fish_weight)]\n",
    "fish_target = [1]*35 +[0]*14"
   ]
  },
  {
   "cell_type": "markdown",
   "id": "44514af7",
   "metadata": {},
   "source": [
    "- 데이터 분할하기 : simple validation\n",
    "    - 학습(train):검증(test) = 7:3\n",
    "    - train 이 35개, test가 14개.\n",
    "    - 리스트 슬라이싱\n",
    "        - 생락시 끝까지 [:35] ->인덱스번호 0부터 34까지. [35:] ->인덱스번호 35부터 49까지"
   ]
  },
  {
   "cell_type": "code",
   "execution_count": 3,
   "id": "55990977",
   "metadata": {},
   "outputs": [],
   "source": [
    "import numpy as np\n",
    "import matplotlib.pyplot as plt\n",
    "from sklearn.neighbors import KNeighborsClassifier"
   ]
  },
  {
   "cell_type": "code",
   "execution_count": 4,
   "id": "76896dee",
   "metadata": {},
   "outputs": [],
   "source": [
    "train_input = fish_data[:35]\n",
    "train_target = fish_target[:35]\n",
    "\n",
    "test_input = fish_data[35:]\n",
    "test_target = fish_target[35:]"
   ]
  },
  {
   "cell_type": "markdown",
   "id": "243c5ed7",
   "metadata": {},
   "source": [
    "- kn모델 생성"
   ]
  },
  {
   "cell_type": "code",
   "execution_count": 5,
   "id": "7945d1c8",
   "metadata": {},
   "outputs": [],
   "source": [
    "kn=KNeighborsClassifier()"
   ]
  },
  {
   "cell_type": "markdown",
   "id": "65b26be5",
   "metadata": {},
   "source": [
    "- train 데이터로 학습"
   ]
  },
  {
   "cell_type": "code",
   "execution_count": 6,
   "id": "ecaf7ca7",
   "metadata": {
    "scrolled": false
   },
   "outputs": [
    {
     "data": {
      "text/plain": [
       "KNeighborsClassifier()"
      ]
     },
     "execution_count": 6,
     "metadata": {},
     "output_type": "execute_result"
    }
   ],
   "source": [
    "kn.fit(train_input,train_target)"
   ]
  },
  {
   "cell_type": "markdown",
   "id": "b046c3ef",
   "metadata": {},
   "source": [
    "- test 데이터로 평가"
   ]
  },
  {
   "cell_type": "code",
   "execution_count": 7,
   "id": "b725a58b",
   "metadata": {
    "scrolled": true
   },
   "outputs": [
    {
     "data": {
      "text/plain": [
       "0.0"
      ]
     },
     "execution_count": 7,
     "metadata": {},
     "output_type": "execute_result"
    }
   ],
   "source": [
    "kn.score(test_input,test_target)"
   ]
  },
  {
   "cell_type": "markdown",
   "id": "ec4efebb",
   "metadata": {},
   "source": [
    "> 정확도 0 나옴\n",
    ">    - 샘플링 편향 문제\n",
    "> -데이터의 0~34번이 도미데이터, 34~49번이 빙어데이터. train데이터에 도미만, test데이터에 빙어만 존재"
   ]
  },
  {
   "cell_type": "markdown",
   "id": "9d6e41cc",
   "metadata": {},
   "source": [
    "#### 샘플링 편향 고치기\n",
    ">- 랜덤 샘플링: 수치해석에 자주 쓰이는 numpy의 모듈을 이용\n",
    ">- fish_data와 fish_target은 리스트 타입이나 넘파이 타입으로 바꿔줘야 함."
   ]
  },
  {
   "cell_type": "markdown",
   "id": "91ccf501",
   "metadata": {},
   "source": [
    "- 데이터 넘파이 타입으로 변환\n",
    "- array():넘파이 타입의 배열을 만들어주는 함수."
   ]
  },
  {
   "cell_type": "code",
   "execution_count": 8,
   "id": "b5b7c7ba",
   "metadata": {
    "scrolled": false
   },
   "outputs": [
    {
     "data": {
      "text/plain": [
       "numpy.ndarray"
      ]
     },
     "execution_count": 8,
     "metadata": {},
     "output_type": "execute_result"
    }
   ],
   "source": [
    "input_arr = np.array(fish_data)\n",
    "target_arr = np.array(fish_target)\n",
    "type(input_arr)"
   ]
  },
  {
   "cell_type": "code",
   "execution_count": 9,
   "id": "252a3875",
   "metadata": {
    "scrolled": true
   },
   "outputs": [
    {
     "data": {
      "text/plain": [
       "(49, 2)"
      ]
     },
     "execution_count": 9,
     "metadata": {},
     "output_type": "execute_result"
    }
   ],
   "source": [
    "input_arr.shape"
   ]
  },
  {
   "cell_type": "markdown",
   "id": "a0d3f8d5",
   "metadata": {},
   "source": [
    "- 랜덤 샘플링\n",
    "    - seed() : 시드값으로 항상 동일한 랜덤값 생성하도록 고정\n",
    "    - arange(49) : 0~48번까지 1씩 증가하는 배열을 만듦\n",
    "    - random.shuffle() : 섞음"
   ]
  },
  {
   "cell_type": "code",
   "execution_count": 10,
   "id": "6fe06ce5",
   "metadata": {},
   "outputs": [],
   "source": [
    "np.random.seed(42)\n",
    "index = np.arange(49)\n",
    "np.random.shuffle(index)"
   ]
  },
  {
   "cell_type": "code",
   "execution_count": 11,
   "id": "de6dfb9d",
   "metadata": {},
   "outputs": [
    {
     "data": {
      "text/plain": [
       "array([13, 45, 47, 44, 17, 27, 26, 25, 31, 19, 12,  4, 34,  8,  3,  6, 40,\n",
       "       41, 46, 15,  9, 16, 24, 33, 30,  0, 43, 32,  5, 29, 11, 36,  1, 21,\n",
       "        2, 37, 35, 23, 39, 10, 22, 18, 48, 20,  7, 42, 14, 28, 38])"
      ]
     },
     "execution_count": 11,
     "metadata": {},
     "output_type": "execute_result"
    }
   ],
   "source": [
    "index"
   ]
  },
  {
   "cell_type": "markdown",
   "id": "a4d77221",
   "metadata": {},
   "source": [
    "> - index 정수 0~48이 랜덤으로 섞인 길이 49의 배열 형성됨"
   ]
  },
  {
   "cell_type": "markdown",
   "id": "f947636b",
   "metadata": {},
   "source": [
    "- 랜덤 인덱스 번호대로 train, targe 분할"
   ]
  },
  {
   "cell_type": "code",
   "execution_count": 12,
   "id": "7dbe3c59",
   "metadata": {},
   "outputs": [
    {
     "ename": "NameError",
     "evalue": "name 'test_arr' is not defined",
     "output_type": "error",
     "traceback": [
      "\u001b[1;31m---------------------------------------------------------------------------\u001b[0m",
      "\u001b[1;31mNameError\u001b[0m                                 Traceback (most recent call last)",
      "\u001b[1;32mC:\\Users\\Public\\Documents\\ESTsoft\\CreatorTemp/ipykernel_11224/546772261.py\u001b[0m in \u001b[0;36m<module>\u001b[1;34m\u001b[0m\n\u001b[0;32m      2\u001b[0m \u001b[0mtrain_targe\u001b[0m\u001b[1;33m=\u001b[0m\u001b[0mtarget_arr\u001b[0m\u001b[1;33m[\u001b[0m\u001b[0mindex\u001b[0m\u001b[1;33m[\u001b[0m\u001b[1;33m:\u001b[0m\u001b[1;36m35\u001b[0m\u001b[1;33m]\u001b[0m\u001b[1;33m]\u001b[0m\u001b[1;33m\u001b[0m\u001b[1;33m\u001b[0m\u001b[0m\n\u001b[0;32m      3\u001b[0m \u001b[1;33m\u001b[0m\u001b[0m\n\u001b[1;32m----> 4\u001b[1;33m \u001b[0mtest_input\u001b[0m\u001b[1;33m=\u001b[0m\u001b[0mtest_arr\u001b[0m\u001b[1;33m[\u001b[0m\u001b[0mindex\u001b[0m\u001b[1;33m[\u001b[0m\u001b[1;33m:\u001b[0m\u001b[1;36m35\u001b[0m\u001b[1;33m]\u001b[0m\u001b[1;33m]\u001b[0m\u001b[1;33m\u001b[0m\u001b[1;33m\u001b[0m\u001b[0m\n\u001b[0m\u001b[0;32m      5\u001b[0m \u001b[0mtest_targe\u001b[0m\u001b[1;33m=\u001b[0m\u001b[0mtest_arr\u001b[0m\u001b[1;33m[\u001b[0m\u001b[0mindex\u001b[0m\u001b[1;33m[\u001b[0m\u001b[1;33m:\u001b[0m\u001b[1;36m35\u001b[0m\u001b[1;33m]\u001b[0m\u001b[1;33m]\u001b[0m\u001b[1;33m\u001b[0m\u001b[1;33m\u001b[0m\u001b[0m\n",
      "\u001b[1;31mNameError\u001b[0m: name 'test_arr' is not defined"
     ]
    }
   ],
   "source": [
    "train_input=input_arr[index[:35]]\n",
    "train_targe=target_arr[index[:35]]\n",
    "\n",
    "test_input=test_arr[index[:35]]\n",
    "test_targe=test_arr[index[:35]]"
   ]
  },
  {
   "cell_type": "code",
   "execution_count": null,
   "id": "bb8c4625",
   "metadata": {},
   "outputs": [],
   "source": [
    "plt.scatter(train_input[:,0],train_input[:,1])\n",
    "plt.scatter(test_input[:,0],test_input[:,1])\n",
    "plt.xlabel('length')\n",
    "plt.ylabel('weight')\n",
    "plt.show()"
   ]
  },
  {
   "cell_type": "markdown",
   "id": "78084bc2",
   "metadata": {},
   "source": [
    "> 파란색 : 학습데이터, 주황색 : 검증데이터가 골고루 분포"
   ]
  },
  {
   "cell_type": "code",
   "execution_count": null,
   "id": "566e69d9",
   "metadata": {},
   "outputs": [],
   "source": []
  }
 ],
 "metadata": {
  "kernelspec": {
   "display_name": "Python 3 (ipykernel)",
   "language": "python",
   "name": "python3"
  },
  "language_info": {
   "codemirror_mode": {
    "name": "ipython",
    "version": 3
   },
   "file_extension": ".py",
   "mimetype": "text/x-python",
   "name": "python",
   "nbconvert_exporter": "python",
   "pygments_lexer": "ipython3",
   "version": "3.9.7"
  }
 },
 "nbformat": 4,
 "nbformat_minor": 5
}
